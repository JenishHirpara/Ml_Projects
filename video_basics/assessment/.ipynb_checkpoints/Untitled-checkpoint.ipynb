{
 "cells": [
  {
   "cell_type": "code",
   "execution_count": 1,
   "id": "aeda26e8-daeb-4054-a355-dbffa88d4390",
   "metadata": {},
   "outputs": [],
   "source": [
    "import cv2\n",
    "\n",
    "def draw_circle(event,x,y,flags,param):\n",
    "     \n",
    "    global center,clicked\n",
    "    \n",
    "    if event == cv2.EVENT_LBUTTONDOWN:\n",
    "        center = (x,y)\n",
    "        clicked = False\n",
    "        \n",
    "    if event == cv2.EVENT_LBUTTONUP:\n",
    "        clicked = True\n",
    "            \n",
    "\n",
    "center = (0,0)\n",
    "clicked = False\n",
    "\n",
    "cap = cv2.VideoCapture(0)\n",
    "\n",
    "cv2.namedWindow('Test')\n",
    "cv2.setMouseCallback('Test', draw_circle)\n",
    "\n",
    "while True:\n",
    "    \n",
    "    ret, frame = cap.read()\n",
    "    \n",
    "    # DRAWING ON THE FRAME BASED OFF THE GLOBAL VARIABLES\n",
    "    if clicked:\n",
    "        cv2.circle(frame,center=center,radius=50,color=(255,0,0),thickness=5)\n",
    "        \n",
    "    \n",
    "    cv2.imshow('Test',frame)\n",
    "    \n",
    "    if cv2.waitKey(1) & 0xFF == ord('q'):\n",
    "        break\n",
    "        \n",
    "cap.release()\n",
    "cv2.destroyAllWindows()"
   ]
  },
  {
   "cell_type": "code",
   "execution_count": null,
   "id": "7ff28c71-2715-4123-9161-58ad4cd50716",
   "metadata": {},
   "outputs": [],
   "source": []
  }
 ],
 "metadata": {
  "kernelspec": {
   "display_name": "Python 3",
   "language": "python",
   "name": "python3"
  },
  "language_info": {
   "codemirror_mode": {
    "name": "ipython",
    "version": 3
   },
   "file_extension": ".py",
   "mimetype": "text/x-python",
   "name": "python",
   "nbconvert_exporter": "python",
   "pygments_lexer": "ipython3",
   "version": "3.8.8"
  }
 },
 "nbformat": 4,
 "nbformat_minor": 5
}
