{
 "cells": [
  {
   "cell_type": "code",
   "execution_count": 4,
   "id": "ef61141d-1edc-4012-873c-8ab6fbe3a27b",
   "metadata": {},
   "outputs": [],
   "source": [
    "import cv2\n",
    "import time\n",
    "\n",
    "cap = cv2.VideoCapture('../connecting_to_camera/mysupervideo.mp4')\n",
    "\n",
    "if cap.isOpened() == False:\n",
    "    print('ERROR FILE NOT FOUND OR WRONG CODEC USED!')\n",
    "    \n",
    "while cap.isOpened():\n",
    "    ret,frame = cap.read()\n",
    "    \n",
    "    if ret == True:\n",
    "        \n",
    "        # WRITER 20 FPS\n",
    "        # time.sleep(1/20)\n",
    "        time.sleep(1/50)\n",
    "        cv2.imshow('frame',frame)\n",
    "        \n",
    "        if cv2.waitKey(10) & 0xFF == ord('q'):\n",
    "            break\n",
    "            \n",
    "    else:\n",
    "        break\n",
    "        \n",
    "cap.release()\n",
    "cv2.destroyAllWindows()"
   ]
  },
  {
   "cell_type": "code",
   "execution_count": null,
   "id": "51d247c2-033e-45e0-93dd-e63006ae5a90",
   "metadata": {},
   "outputs": [],
   "source": []
  }
 ],
 "metadata": {
  "kernelspec": {
   "display_name": "Python 3",
   "language": "python",
   "name": "python3"
  },
  "language_info": {
   "codemirror_mode": {
    "name": "ipython",
    "version": 3
   },
   "file_extension": ".py",
   "mimetype": "text/x-python",
   "name": "python",
   "nbconvert_exporter": "python",
   "pygments_lexer": "ipython3",
   "version": "3.8.8"
  }
 },
 "nbformat": 4,
 "nbformat_minor": 5
}
