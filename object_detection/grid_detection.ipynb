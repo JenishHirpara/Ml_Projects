{
 "cells": [
  {
   "cell_type": "code",
   "execution_count": 1,
   "id": "cacf3f80-1e65-4f08-bbb8-bafe1968f14f",
   "metadata": {},
   "outputs": [],
   "source": [
    "import cv2\n",
    "import numpy as np\n",
    "import matplotlib.pyplot as plt\n",
    "%matplotlib inline"
   ]
  },
  {
   "cell_type": "code",
   "execution_count": 2,
   "id": "2c05c446-c34c-417d-8313-29fcf1552deb",
   "metadata": {},
   "outputs": [],
   "source": [
    "flat_chess = cv2.imread('../numpy_images/flat_chess.jpg')"
   ]
  },
  {
   "cell_type": "code",
   "execution_count": 3,
   "id": "39e4fdef-de72-4368-b16f-3ede1563cf0a",
   "metadata": {},
   "outputs": [
    {
     "data": {
      "text/plain": [
       "<matplotlib.image.AxesImage at 0x21693a3e700>"
      ]
     },
     "execution_count": 3,
     "metadata": {},
     "output_type": "execute_result"
    },
    {
     "data": {
      "image/png": "[encoded data removed]",
      "text/plain": [
       "<Figure size 432x288 with 1 Axes>"
      ]
     },
     "metadata": {
      "needs_background": "light"
     },
     "output_type": "display_data"
    }
   ],
   "source": [
    "plt.imshow(flat_chess)"
   ]
  },
  {
   "cell_type": "code",
   "execution_count": 4,
   "id": "4fe12fa8-7e92-42fb-8d3b-532c028195cd",
   "metadata": {},
   "outputs": [],
   "source": [
    "found,corners = cv2.findChessboardCorners(flat_chess,(7,7))"
   ]
  },
  {
   "cell_type": "code",
   "execution_count": 5,
   "id": "41564ed0-554a-4d09-9b31-59444e4ba1ea",
   "metadata": {},
   "outputs": [
    {
     "data": {
      "text/plain": [
       "True"
      ]
     },
     "execution_count": 5,
     "metadata": {},
     "output_type": "execute_result"
    }
   ],
   "source": [
    "found"
   ]
  },
  {
   "cell_type": "code",
   "execution_count": 6,
   "id": "aea45a79-f660-4e8b-9d1a-defef2b06828",
   "metadata": {},
   "outputs": [
    {
     "data": {
      "text/plain": [
       "array([[[ 149.5,  149.5]],\n",
       "\n",
       "       [[ 299.5,  149.5]],\n",
       "\n",
       "       [[ 449.5,  149.5]],\n",
       "\n",
       "       [[ 599.5,  149.5]],\n",
       "\n",
       "       [[ 749.5,  149.5]],\n",
       "\n",
       "       [[ 899.5,  149.5]],\n",
       "\n",
       "       [[1049.5,  149.5]],\n",
       "\n",
       "       [[ 149.5,  299.5]],\n",
       "\n",
       "       [[ 299.5,  299.5]],\n",
       "\n",
       "       [[ 449.5,  299.5]],\n",
       "\n",
       "       [[ 599.5,  299.5]],\n",
       "\n",
       "       [[ 749.5,  299.5]],\n",
       "\n",
       "       [[ 899.5,  299.5]],\n",
       "\n",
       "       [[1049.5,  299.5]],\n",
       "\n",
       "       [[ 149.5,  449.5]],\n",
       "\n",
       "       [[ 299.5,  449.5]],\n",
       "\n",
       "       [[ 449.5,  449.5]],\n",
       "\n",
       "       [[ 599.5,  449.5]],\n",
       "\n",
       "       [[ 749.5,  449.5]],\n",
       "\n",
       "       [[ 899.5,  449.5]],\n",
       "\n",
       "       [[1049.5,  449.5]],\n",
       "\n",
       "       [[ 149.5,  599.5]],\n",
       "\n",
       "       [[ 299.5,  599.5]],\n",
       "\n",
       "       [[ 449.5,  599.5]],\n",
       "\n",
       "       [[ 599.5,  599.5]],\n",
       "\n",
       "       [[ 749.5,  599.5]],\n",
       "\n",
       "       [[ 899.5,  599.5]],\n",
       "\n",
       "       [[1049.5,  599.5]],\n",
       "\n",
       "       [[ 149.5,  749.5]],\n",
       "\n",
       "       [[ 299.5,  749.5]],\n",
       "\n",
       "       [[ 449.5,  749.5]],\n",
       "\n",
       "       [[ 599.5,  749.5]],\n",
       "\n",
       "       [[ 749.5,  749.5]],\n",
       "\n",
       "       [[ 899.5,  749.5]],\n",
       "\n",
       "       [[1049.5,  749.5]],\n",
       "\n",
       "       [[ 149.5,  899.5]],\n",
       "\n",
       "       [[ 299.5,  899.5]],\n",
       "\n",
       "       [[ 449.5,  899.5]],\n",
       "\n",
       "       [[ 599.5,  899.5]],\n",
       "\n",
       "       [[ 749.5,  899.5]],\n",
       "\n",
       "       [[ 899.5,  899.5]],\n",
       "\n",
       "       [[1049.5,  899.5]],\n",
       "\n",
       "       [[ 149.5, 1049.5]],\n",
       "\n",
       "       [[ 299.5, 1049.5]],\n",
       "\n",
       "       [[ 449.5, 1049.5]],\n",
       "\n",
       "       [[ 599.5, 1049.5]],\n",
       "\n",
       "       [[ 749.5, 1049.5]],\n",
       "\n",
       "       [[ 899.5, 1049.5]],\n",
       "\n",
       "       [[1049.5, 1049.5]]], dtype=float32)"
      ]
     },
     "execution_count": 6,
     "metadata": {},
     "output_type": "execute_result"
    }
   ],
   "source": [
    "corners"
   ]
  },
  {
   "cell_type": "code",
   "execution_count": 7,
   "id": "f9e4483e-0d5e-4072-8d98-305aa236e6d4",
   "metadata": {},
   "outputs": [
    {
     "data": {
      "text/plain": [
       "array([[[158, 206, 255],\n",
       "        [158, 206, 255],\n",
       "        [158, 206, 255],\n",
       "        ...,\n",
       "        [ 71, 139, 209],\n",
       "        [ 71, 139, 209],\n",
       "        [ 71, 139, 209]],\n",
       "\n",
       "       [[158, 206, 255],\n",
       "        [158, 206, 255],\n",
       "        [158, 206, 255],\n",
       "        ...,\n",
       "        [ 71, 139, 209],\n",
       "        [ 71, 139, 209],\n",
       "        [ 71, 139, 209]],\n",
       "\n",
       "       [[158, 206, 255],\n",
       "        [158, 206, 255],\n",
       "        [158, 206, 255],\n",
       "        ...,\n",
       "        [ 71, 139, 209],\n",
       "        [ 71, 139, 209],\n",
       "        [ 71, 139, 209]],\n",
       "\n",
       "       ...,\n",
       "\n",
       "       [[ 71, 139, 209],\n",
       "        [ 71, 139, 209],\n",
       "        [ 71, 139, 209],\n",
       "        ...,\n",
       "        [158, 206, 255],\n",
       "        [158, 206, 255],\n",
       "        [158, 206, 255]],\n",
       "\n",
       "       [[ 71, 139, 209],\n",
       "        [ 71, 139, 209],\n",
       "        [ 71, 139, 209],\n",
       "        ...,\n",
       "        [158, 206, 255],\n",
       "        [158, 206, 255],\n",
       "        [158, 206, 255]],\n",
       "\n",
       "       [[ 71, 139, 209],\n",
       "        [ 71, 139, 209],\n",
       "        [ 71, 139, 209],\n",
       "        ...,\n",
       "        [158, 206, 255],\n",
       "        [158, 206, 255],\n",
       "        [158, 206, 255]]], dtype=uint8)"
      ]
     },
     "execution_count": 7,
     "metadata": {},
     "output_type": "execute_result"
    }
   ],
   "source": [
    "cv2.drawChessboardCorners(flat_chess,(7,7),corners,found)"
   ]
  },
  {
   "cell_type": "code",
   "execution_count": 8,
   "id": "727498ab-98da-47fc-ab2f-d59d8edc134d",
   "metadata": {},
   "outputs": [
    {
     "data": {
      "text/plain": [
       "<matplotlib.image.AxesImage at 0x21693ed1b20>"
      ]
     },
     "execution_count": 8,
     "metadata": {},
     "output_type": "execute_result"
    },
    {
     "data": {
      "image/png": "[encoded data removed]",
      "text/plain": [
       "<Figure size 432x288 with 1 Axes>"
      ]
     },
     "metadata": {
      "needs_background": "light"
     },
     "output_type": "display_data"
    }
   ],
   "source": [
    "plt.imshow(flat_chess)"
   ]
  },
  {
   "cell_type": "code",
   "execution_count": 9,
   "id": "b0dba9d9-5c8d-4678-9918-5da3f28f7934",
   "metadata": {},
   "outputs": [],
   "source": [
    "dots = cv2.imread('../numpy_images/dot_grid.jpg')"
   ]
  },
  {
   "cell_type": "code",
   "execution_count": 10,
   "id": "a9b758b5-bb20-468d-b2cd-49ec5bec6e0d",
   "metadata": {},
   "outputs": [
    {
     "data": {
      "text/plain": [
       "<matplotlib.image.AxesImage at 0x21694522910>"
      ]
     },
     "execution_count": 10,
     "metadata": {},
     "output_type": "execute_result"
    },
    {
     "data": {
      "image/png": "[encoded data removed]",
      "text/plain": [
       "<Figure size 432x288 with 1 Axes>"
      ]
     },
     "metadata": {
      "needs_background": "light"
     },
     "output_type": "display_data"
    }
   ],
   "source": [
    "plt.imshow(dots)"
   ]
  },
  {
   "cell_type": "code",
   "execution_count": 11,
   "id": "6094c31e-dd97-4252-9ee9-dc1bcfe91493",
   "metadata": {},
   "outputs": [],
   "source": [
    "found, corners = cv2.findCirclesGrid(dots,(19,19),cv2.CALIB_CB_SYMMETRIC_GRID)"
   ]
  },
  {
   "cell_type": "code",
   "execution_count": 12,
   "id": "4bdc26bf-bf52-43e4-a519-6b9526fedcda",
   "metadata": {},
   "outputs": [
    {
     "data": {
      "text/plain": [
       "True"
      ]
     },
     "execution_count": 12,
     "metadata": {},
     "output_type": "execute_result"
    }
   ],
   "source": [
    "found"
   ]
  },
  {
   "cell_type": "code",
   "execution_count": 14,
   "id": "c7ac4724-ec9b-4c4c-ab2a-1c6d14bb4f2f",
   "metadata": {},
   "outputs": [],
   "source": [
    "#corners"
   ]
  },
  {
   "cell_type": "code",
   "execution_count": 15,
   "id": "47382f99-a47d-45a8-889c-e9549bf96f5a",
   "metadata": {},
   "outputs": [
    {
     "data": {
      "text/plain": [
       "array([[[255, 255, 255],\n",
       "        [255, 255, 255],\n",
       "        [255, 255, 255],\n",
       "        ...,\n",
       "        [255, 255, 255],\n",
       "        [255, 255, 255],\n",
       "        [255, 255, 255]],\n",
       "\n",
       "       [[255, 255, 255],\n",
       "        [255, 255, 255],\n",
       "        [255, 255, 255],\n",
       "        ...,\n",
       "        [255, 255, 255],\n",
       "        [255, 255, 255],\n",
       "        [255, 255, 255]],\n",
       "\n",
       "       [[255, 255, 255],\n",
       "        [255, 255, 255],\n",
       "        [255, 255, 255],\n",
       "        ...,\n",
       "        [255, 255, 255],\n",
       "        [255, 255, 255],\n",
       "        [255, 255, 255]],\n",
       "\n",
       "       ...,\n",
       "\n",
       "       [[255, 255, 255],\n",
       "        [255, 255, 255],\n",
       "        [255, 255, 255],\n",
       "        ...,\n",
       "        [255, 255, 255],\n",
       "        [255, 255, 255],\n",
       "        [255, 255, 255]],\n",
       "\n",
       "       [[255, 255, 255],\n",
       "        [255, 255, 255],\n",
       "        [255, 255, 255],\n",
       "        ...,\n",
       "        [255, 255, 255],\n",
       "        [255, 255, 255],\n",
       "        [255, 255, 255]],\n",
       "\n",
       "       [[255, 255, 255],\n",
       "        [255, 255, 255],\n",
       "        [255, 255, 255],\n",
       "        ...,\n",
       "        [255, 255, 255],\n",
       "        [255, 255, 255],\n",
       "        [255, 255, 255]]], dtype=uint8)"
      ]
     },
     "execution_count": 15,
     "metadata": {},
     "output_type": "execute_result"
    }
   ],
   "source": [
    "cv2.drawChessboardCorners(dots,(19,19),corners,found)"
   ]
  },
  {
   "cell_type": "code",
   "execution_count": 16,
   "id": "4e6a766f-bc5c-4bf0-be79-f837f71ba3d6",
   "metadata": {},
   "outputs": [
    {
     "data": {
      "text/plain": [
       "<matplotlib.image.AxesImage at 0x216932e1ee0>"
      ]
     },
     "execution_count": 16,
     "metadata": {},
     "output_type": "execute_result"
    },
    {
     "data": {
      "image/png": "[encoded data removed]",
      "text/plain": [
       "<Figure size 432x288 with 1 Axes>"
      ]
     },
     "metadata": {
      "needs_background": "light"
     },
     "output_type": "display_data"
    }
   ],
   "source": [
    "plt.imshow(dots)"
   ]
  },
  {
   "cell_type": "code",
   "execution_count": null,
   "id": "0b4be2ce-17c7-4ace-b3ee-69c33671d090",
   "metadata": {},
   "outputs": [],
   "source": []
  }
 ],
 "metadata": {
  "kernelspec": {
   "display_name": "Python 3",
   "language": "python",
   "name": "python3"
  },
  "language_info": {
   "codemirror_mode": {
    "name": "ipython",
    "version": 3
   },
   "file_extension": ".py",
   "mimetype": "text/x-python",
   "name": "python",
   "nbconvert_exporter": "python",
   "pygments_lexer": "ipython3",
   "version": "3.8.8"
  }
 },
 "nbformat": 4,
 "nbformat_minor": 5
}
